{
 "cells": [
  {
   "cell_type": "code",
   "execution_count": 1,
   "id": "d25f3f52-6a75-4cbf-a8a6-81f568472f23",
   "metadata": {},
   "outputs": [],
   "source": [
    "import nltk"
   ]
  },
  {
   "cell_type": "code",
   "execution_count": 2,
   "id": "6358ca56-9664-49fb-9558-49c3902c5329",
   "metadata": {},
   "outputs": [],
   "source": [
    "# nltk.download() para descargar los libros"
   ]
  },
  {
   "cell_type": "code",
   "execution_count": 3,
   "id": "e7f4d7bb-cd1f-44bf-ba5d-8d44c03b5a37",
   "metadata": {},
   "outputs": [],
   "source": [
    "#nltk.download()"
   ]
  },
  {
   "cell_type": "code",
   "execution_count": 4,
   "id": "e47160ec-9aca-4e13-8fde-6de7ecf57cb1",
   "metadata": {},
   "outputs": [
    {
     "name": "stdout",
     "output_type": "stream",
     "text": [
      "*** Introductory Examples for the NLTK Book ***\n",
      "Loading text1, ..., text9 and sent1, ..., sent9\n",
      "Type the name of the text or sentence to view it.\n",
      "Type: 'texts()' or 'sents()' to list the materials.\n",
      "text1: Moby Dick by Herman Melville 1851\n",
      "text2: Sense and Sensibility by Jane Austen 1811\n",
      "text3: The Book of Genesis\n",
      "text4: Inaugural Address Corpus\n",
      "text5: Chat Corpus\n",
      "text6: Monty Python and the Holy Grail\n",
      "text7: Wall Street Journal\n",
      "text8: Personals Corpus\n",
      "text9: The Man Who Was Thursday by G . K . Chesterton 1908\n"
     ]
    }
   ],
   "source": [
    "from nltk.book import *"
   ]
  },
  {
   "cell_type": "code",
   "execution_count": 5,
   "id": "5c4e93ff-03dd-4eef-a6f0-4c85b4dc7e26",
   "metadata": {},
   "outputs": [],
   "source": [
    "# texts() para ver los libros de nltk"
   ]
  },
  {
   "cell_type": "code",
   "execution_count": 6,
   "id": "d940e028-8865-4393-8111-fc44992f1798",
   "metadata": {},
   "outputs": [
    {
     "data": {
      "text/plain": [
       "['[', 'Moby', 'Dick', 'by', 'Herman']"
      ]
     },
     "execution_count": 6,
     "metadata": {},
     "output_type": "execute_result"
    }
   ],
   "source": [
    "text1.tokens[0:5]"
   ]
  },
  {
   "cell_type": "code",
   "execution_count": 7,
   "id": "ce9f78f6-79d4-4faa-8b4a-91f259fe3a38",
   "metadata": {},
   "outputs": [],
   "source": [
    "# count(Palabra) : Cantidad de veces que aparece esa palabra"
   ]
  },
  {
   "cell_type": "code",
   "execution_count": 8,
   "id": "5869dd7e-d5c8-49bb-a1da-03c96193003d",
   "metadata": {},
   "outputs": [
    {
     "data": {
      "text/plain": [
       "84"
      ]
     },
     "execution_count": 8,
     "metadata": {},
     "output_type": "execute_result"
    }
   ],
   "source": [
    "text1.count(\"Moby\")"
   ]
  },
  {
   "cell_type": "code",
   "execution_count": 9,
   "id": "671979ed-4df5-4db2-b2e8-22b46a0d60c8",
   "metadata": {},
   "outputs": [],
   "source": [
    "# Defino un corpus"
   ]
  },
  {
   "cell_type": "code",
   "execution_count": 10,
   "id": "ba9da4c4-7f93-4fb8-b097-a00d4ef9f2f3",
   "metadata": {},
   "outputs": [],
   "source": [
    "mysent = \"The cat sat on the mat.\""
   ]
  },
  {
   "cell_type": "code",
   "execution_count": 11,
   "id": "20c4bc9e-c5c4-4cc7-ade6-e8f2a71eeb3b",
   "metadata": {},
   "outputs": [],
   "source": [
    "# Importamos el 'tokenizador'"
   ]
  },
  {
   "cell_type": "code",
   "execution_count": 12,
   "id": "3a250d3f-ec40-4925-b6e8-e7f417c16f0d",
   "metadata": {},
   "outputs": [],
   "source": [
    "from nltk import word_tokenize"
   ]
  },
  {
   "cell_type": "code",
   "execution_count": 13,
   "id": "168fa734-cedd-4961-91cb-cdf39f1e93db",
   "metadata": {},
   "outputs": [],
   "source": [
    "# tokenizamos el string"
   ]
  },
  {
   "cell_type": "code",
   "execution_count": 14,
   "id": "8e615b7c-fc9b-4a64-9975-b3213d0ed39b",
   "metadata": {},
   "outputs": [],
   "source": [
    "mysent_tokens = word_tokenize(mysent)"
   ]
  },
  {
   "cell_type": "code",
   "execution_count": 15,
   "id": "956231d7-e103-4a07-9079-57c04ce56399",
   "metadata": {},
   "outputs": [
    {
     "data": {
      "text/plain": [
       "['The', 'cat', 'sat', 'on', 'the', 'mat', '.']"
      ]
     },
     "execution_count": 15,
     "metadata": {},
     "output_type": "execute_result"
    }
   ],
   "source": [
    "mysent_tokens"
   ]
  },
  {
   "cell_type": "code",
   "execution_count": 16,
   "id": "ed418831-102f-4277-ae2e-218e211477cb",
   "metadata": {},
   "outputs": [],
   "source": [
    "# Len es para saber la cantidad de palabras"
   ]
  },
  {
   "cell_type": "code",
   "execution_count": 17,
   "id": "09f23f57-3a37-4474-bd13-8de274deade1",
   "metadata": {},
   "outputs": [
    {
     "data": {
      "text/plain": [
       "7"
      ]
     },
     "execution_count": 17,
     "metadata": {},
     "output_type": "execute_result"
    }
   ],
   "source": [
    "len(mysent_tokens)"
   ]
  },
  {
   "cell_type": "code",
   "execution_count": 18,
   "id": "be5ea3a6-548e-4500-a113-dbf30828d969",
   "metadata": {},
   "outputs": [],
   "source": [
    "# re tiene algunas cosas útiles para expresiones regulares, para buscar patrones usamos re.search(Patron, Cadena)"
   ]
  },
  {
   "cell_type": "code",
   "execution_count": 19,
   "id": "39020986-3ef0-4cf2-86d2-e644207d1377",
   "metadata": {},
   "outputs": [],
   "source": [
    "from nltk import re"
   ]
  },
  {
   "cell_type": "code",
   "execution_count": 20,
   "id": "5702fbda-6174-47dc-841f-8ec39a23aa6a",
   "metadata": {},
   "outputs": [],
   "source": [
    "m = re.search(\"leng\", \"Procesamiento del lenguaje natural\")"
   ]
  },
  {
   "cell_type": "code",
   "execution_count": 21,
   "id": "c0771178-37ad-4079-91a6-bd9b8825cd8b",
   "metadata": {},
   "outputs": [
    {
     "data": {
      "text/plain": [
       "<re.Match object; span=(18, 22), match='leng'>"
      ]
     },
     "execution_count": 21,
     "metadata": {},
     "output_type": "execute_result"
    }
   ],
   "source": [
    "m"
   ]
  },
  {
   "cell_type": "code",
   "execution_count": 22,
   "id": "2c21291f-2181-4824-a0b7-665919fab185",
   "metadata": {},
   "outputs": [],
   "source": [
    "# Donde empieza el patron"
   ]
  },
  {
   "cell_type": "code",
   "execution_count": 23,
   "id": "327ad7ab-c07b-458c-a1a5-c26db2afc075",
   "metadata": {},
   "outputs": [
    {
     "data": {
      "text/plain": [
       "18"
      ]
     },
     "execution_count": 23,
     "metadata": {},
     "output_type": "execute_result"
    }
   ],
   "source": [
    "m.start()"
   ]
  },
  {
   "cell_type": "code",
   "execution_count": 24,
   "id": "874ec5e8-511b-4a80-8e2b-e9e69395e6ef",
   "metadata": {},
   "outputs": [],
   "source": [
    "# Donde termina el patron"
   ]
  },
  {
   "cell_type": "code",
   "execution_count": 25,
   "id": "176a9568-ac02-49fe-8026-532665cfcdf3",
   "metadata": {},
   "outputs": [
    {
     "data": {
      "text/plain": [
       "22"
      ]
     },
     "execution_count": 25,
     "metadata": {},
     "output_type": "execute_result"
    }
   ],
   "source": [
    "m.end()"
   ]
  },
  {
   "cell_type": "code",
   "execution_count": 26,
   "id": "73c22d63-2386-47f9-934e-5e60c18bf100",
   "metadata": {},
   "outputs": [],
   "source": [
    "# Ahora dado otro caso"
   ]
  },
  {
   "cell_type": "code",
   "execution_count": 27,
   "id": "5b6fe4b3-65c0-4c4a-933d-a0dcb6b3b4fc",
   "metadata": {},
   "outputs": [],
   "source": [
    "n = re.search(\"procesan\", \"Procesamiento del lenguaje natural\")"
   ]
  },
  {
   "cell_type": "code",
   "execution_count": 28,
   "id": "9fd6a719-ab73-4ab9-ae8d-a8d06b08ed58",
   "metadata": {},
   "outputs": [],
   "source": [
    "# El patrón tiene que coincidir exactamente para encontrarlo"
   ]
  },
  {
   "cell_type": "code",
   "execution_count": 29,
   "id": "f8a4caa6-54e2-43b5-b794-8737be97c33f",
   "metadata": {},
   "outputs": [],
   "source": [
    "n"
   ]
  },
  {
   "cell_type": "code",
   "execution_count": 30,
   "id": "babd402d-0a5d-4137-97fc-2104fb8223d1",
   "metadata": {},
   "outputs": [],
   "source": [
    "# Si solo queremos las palabras podemos usar la expresion regular \"\\w\""
   ]
  },
  {
   "cell_type": "code",
   "execution_count": 31,
   "id": "eff898ea-3ece-4313-b71e-3550b79689d6",
   "metadata": {},
   "outputs": [],
   "source": [
    "mysent_tokens_nopunct = [word for word in mysent_tokens if re.search(\"\\w\", word)]"
   ]
  },
  {
   "cell_type": "code",
   "execution_count": 32,
   "id": "937b3579-6927-43f2-a942-88f2bcefcd50",
   "metadata": {},
   "outputs": [],
   "source": [
    "# De esta forma, solamente estamos conservando los tokens que son palabras"
   ]
  },
  {
   "cell_type": "code",
   "execution_count": 33,
   "id": "82bf5433-59a0-43bc-a1bb-d3fdbee812e0",
   "metadata": {},
   "outputs": [
    {
     "data": {
      "text/plain": [
       "['The', 'cat', 'sat', 'on', 'the', 'mat']"
      ]
     },
     "execution_count": 33,
     "metadata": {},
     "output_type": "execute_result"
    }
   ],
   "source": [
    "mysent_tokens_nopunct"
   ]
  },
  {
   "cell_type": "code",
   "execution_count": 34,
   "id": "81ba4e27-b9bc-4c81-9a0a-af8cea6dee8f",
   "metadata": {},
   "outputs": [
    {
     "data": {
      "text/plain": [
       "6"
      ]
     },
     "execution_count": 34,
     "metadata": {},
     "output_type": "execute_result"
    }
   ],
   "source": [
    "len(mysent_tokens_nopunct)"
   ]
  },
  {
   "cell_type": "code",
   "execution_count": 35,
   "id": "259b53d0-d165-4e90-90c8-b19187f63094",
   "metadata": {},
   "outputs": [],
   "source": [
    "# Types: Para crear un set usamos set(corpus), cada token del set es un Type"
   ]
  },
  {
   "cell_type": "code",
   "execution_count": 36,
   "id": "bf79a2ec-84a6-4dd2-b16e-43660d340d24",
   "metadata": {},
   "outputs": [
    {
     "data": {
      "text/plain": [
       "{'The', 'cat', 'mat', 'on', 'sat', 'the'}"
      ]
     },
     "execution_count": 36,
     "metadata": {},
     "output_type": "execute_result"
    }
   ],
   "source": [
    "set(mysent_tokens_nopunct)"
   ]
  },
  {
   "cell_type": "code",
   "execution_count": 37,
   "id": "d6d3b03c-ee65-4914-ade8-b93307d304e9",
   "metadata": {},
   "outputs": [],
   "source": [
    "# Como tenemos diferencias entre The y the por ser mayúsculas y minúsculas, debemos usar el método lower()"
   ]
  },
  {
   "cell_type": "code",
   "execution_count": 38,
   "id": "d0ad69a6-c83f-4e96-b3d2-1dfc732475d4",
   "metadata": {},
   "outputs": [],
   "source": [
    "mysent = mysent.lower()\n",
    "mysent_tokens = word_tokenize(mysent)\n",
    "mysent_tokens_nopunct = [word for word in mysent_tokens if re.search(\"\\w\", word)]"
   ]
  },
  {
   "cell_type": "code",
   "execution_count": 39,
   "id": "a1736a7f-b3ba-4c50-b687-e3112dc0d6c3",
   "metadata": {},
   "outputs": [],
   "source": [
    "# De esta forma solamente tenemos las palabras sin repetir y sin diferenciar mayúsculas y minúsculas"
   ]
  },
  {
   "cell_type": "code",
   "execution_count": 40,
   "id": "df8229ae-91f3-4972-9689-3aef78460ac7",
   "metadata": {},
   "outputs": [
    {
     "data": {
      "text/plain": [
       "{'cat', 'mat', 'on', 'sat', 'the'}"
      ]
     },
     "execution_count": 40,
     "metadata": {},
     "output_type": "execute_result"
    }
   ],
   "source": [
    "set(mysent_tokens_nopunct)"
   ]
  },
  {
   "cell_type": "code",
   "execution_count": 41,
   "id": "d49d66ab-88aa-4efe-9f7a-8044f641d966",
   "metadata": {},
   "outputs": [
    {
     "data": {
      "text/plain": [
       "5"
      ]
     },
     "execution_count": 41,
     "metadata": {},
     "output_type": "execute_result"
    }
   ],
   "source": [
    "len(set(mysent_tokens_nopunct))"
   ]
  },
  {
   "cell_type": "code",
   "execution_count": 42,
   "id": "6d08d25c-11a5-481a-bcf9-66c91de6b962",
   "metadata": {},
   "outputs": [],
   "source": [
    "# Ahora lo aplicamos a un corpus más grande"
   ]
  },
  {
   "cell_type": "code",
   "execution_count": 43,
   "id": "1fac34bf-1a19-43d2-a5d8-6a4cfbb99021",
   "metadata": {},
   "outputs": [],
   "source": [
    "moby_dick_tokens = text1.tokens"
   ]
  },
  {
   "cell_type": "code",
   "execution_count": 44,
   "id": "fa9f2ed6-e81a-4a71-a2f5-90273d373f19",
   "metadata": {},
   "outputs": [],
   "source": [
    "# Vemos otra forma de cambiar a minúsculas"
   ]
  },
  {
   "cell_type": "code",
   "execution_count": 45,
   "id": "b704922d-c82a-4f5f-99cf-8dc82f5d17d7",
   "metadata": {},
   "outputs": [],
   "source": [
    "moby_dick_tokens_nopunct = [word.lower() for word in moby_dick_tokens if re.search(\"\\w\", word)]"
   ]
  },
  {
   "cell_type": "code",
   "execution_count": 46,
   "id": "57efb3e7-2ac1-4081-97ee-735ff7edfc91",
   "metadata": {},
   "outputs": [
    {
     "data": {
      "text/plain": [
       "['moby', 'dick', 'by', 'herman', 'melville']"
      ]
     },
     "execution_count": 46,
     "metadata": {},
     "output_type": "execute_result"
    }
   ],
   "source": [
    "moby_dick_tokens_nopunct[0:5]"
   ]
  },
  {
   "cell_type": "code",
   "execution_count": 47,
   "id": "516b2938-6b8f-401c-946a-b3ce3c3c91c0",
   "metadata": {},
   "outputs": [],
   "source": [
    "# Ahora usando lo aprendido, responda (removiendo puntuaciones e ignorando mayúsculas)"
   ]
  },
  {
   "cell_type": "code",
   "execution_count": 48,
   "id": "65c6db16-b191-4b60-9978-84f2a7a7e5f4",
   "metadata": {},
   "outputs": [],
   "source": [
    "# 1 - Cantidad de tokens en Moby Dick"
   ]
  },
  {
   "cell_type": "code",
   "execution_count": 49,
   "id": "0f5837a3-d496-4a1f-a666-ffc622ea711b",
   "metadata": {},
   "outputs": [],
   "source": [
    "moby_dick_cant_token = len(moby_dick_tokens_nopunct)"
   ]
  },
  {
   "cell_type": "code",
   "execution_count": 50,
   "id": "816437e6-2581-4bb8-b05f-ef0576384695",
   "metadata": {},
   "outputs": [
    {
     "data": {
      "text/plain": [
       "218621"
      ]
     },
     "execution_count": 50,
     "metadata": {},
     "output_type": "execute_result"
    }
   ],
   "source": [
    "moby_dick_cant_token"
   ]
  },
  {
   "cell_type": "code",
   "execution_count": 51,
   "id": "b2368880-5fab-4483-968a-9ffa3e52e61d",
   "metadata": {},
   "outputs": [],
   "source": [
    "# 2 - Cantidad de types en Moby Dick"
   ]
  },
  {
   "cell_type": "code",
   "execution_count": 52,
   "id": "ed2ba664-cd0b-412a-9a12-bf630831e75c",
   "metadata": {},
   "outputs": [],
   "source": [
    "moby_dick_types = set(moby_dick_tokens_nopunct)\n",
    "moby_dick_cant_types = len(moby_dick_types)"
   ]
  },
  {
   "cell_type": "code",
   "execution_count": 53,
   "id": "77e93923-512c-46b2-931b-580c8c4cd5ab",
   "metadata": {},
   "outputs": [
    {
     "data": {
      "text/plain": [
       "17140"
      ]
     },
     "execution_count": 53,
     "metadata": {},
     "output_type": "execute_result"
    }
   ],
   "source": [
    "moby_dick_cant_types"
   ]
  },
  {
   "cell_type": "code",
   "execution_count": 54,
   "id": "6fc7178c-a536-44fe-9f57-cba3d917bb6a",
   "metadata": {},
   "outputs": [],
   "source": [
    "# Type/Token Ratio: Mide la diversidad de palabras"
   ]
  },
  {
   "cell_type": "code",
   "execution_count": 55,
   "id": "96f21055-9f7b-41c2-a367-c417f333d52c",
   "metadata": {},
   "outputs": [],
   "source": [
    "# Type/Token Ratio de Moby Dick"
   ]
  },
  {
   "cell_type": "code",
   "execution_count": 56,
   "id": "415b14fd-fc79-4994-ab2f-f5c01578f0aa",
   "metadata": {},
   "outputs": [],
   "source": [
    "moby_dick_type_token_ratio = moby_dick_cant_types / moby_dick_cant_token"
   ]
  },
  {
   "cell_type": "code",
   "execution_count": 57,
   "id": "96aa73a7-e8ef-4875-b5ce-13960a384bf0",
   "metadata": {},
   "outputs": [
    {
     "data": {
      "text/plain": [
       "0.07840051962071347"
      ]
     },
     "execution_count": 57,
     "metadata": {},
     "output_type": "execute_result"
    }
   ],
   "source": [
    "moby_dick_type_token_ratio"
   ]
  },
  {
   "cell_type": "code",
   "execution_count": 58,
   "id": "f03cd202-8b92-45a4-9c23-d97d1164a053",
   "metadata": {},
   "outputs": [],
   "source": [
    "# Type/Token Ratio de Wall Street Journal"
   ]
  },
  {
   "cell_type": "code",
   "execution_count": 59,
   "id": "ae4a0620-1588-46f1-9c0b-2eae31e63e62",
   "metadata": {},
   "outputs": [],
   "source": [
    "jsw_tokens = text7.tokens\n",
    "jsw_tokens_nopunct = [word.lower() for word in jsw_tokens if re.search(\"\\w\", word)]\n",
    "jsw_cant_tokens = len(jsw_tokens_nopunct)\n",
    "jsw_types = set(jsw_tokens_nopunct)\n",
    "jsw_cant_types = len(jsw_types)\n",
    "jsw_type_token_ratio = jsw_cant_types / jsw_cant_tokens"
   ]
  },
  {
   "cell_type": "code",
   "execution_count": 60,
   "id": "9c571fe0-0488-481a-b61b-228d557db9ba",
   "metadata": {},
   "outputs": [
    {
     "data": {
      "text/plain": [
       "11367"
      ]
     },
     "execution_count": 60,
     "metadata": {},
     "output_type": "execute_result"
    }
   ],
   "source": [
    "jsw_cant_types"
   ]
  },
  {
   "cell_type": "code",
   "execution_count": 61,
   "id": "675a8c96-50f0-4994-a887-934be837691f",
   "metadata": {},
   "outputs": [
    {
     "data": {
      "text/plain": [
       "87608"
      ]
     },
     "execution_count": 61,
     "metadata": {},
     "output_type": "execute_result"
    }
   ],
   "source": [
    "jsw_cant_tokens"
   ]
  },
  {
   "cell_type": "code",
   "execution_count": 62,
   "id": "e69b4897-51e8-4d0c-92f9-267645a9a4b4",
   "metadata": {},
   "outputs": [
    {
     "data": {
      "text/plain": [
       "0.129748424801388"
      ]
     },
     "execution_count": 62,
     "metadata": {},
     "output_type": "execute_result"
    }
   ],
   "source": [
    "jsw_type_token_ratio"
   ]
  },
  {
   "cell_type": "code",
   "execution_count": 63,
   "id": "75a8baf5-e3b8-4c70-8313-783a345b5522",
   "metadata": {},
   "outputs": [],
   "source": [
    "#El Wall Street Journal presenta mayor diversidad léxica\n",
    "#Al tratarse de un diario, este presenta mayor variedad de elementos únicos (nombres, organizaciones, lugares)\n",
    "#En cambio, las novelas tienen un número limitado de personajes y localizaciones"
   ]
  },
  {
   "cell_type": "code",
   "execution_count": 64,
   "id": "f8041377-eec0-40f3-a169-36a269b975ac",
   "metadata": {},
   "outputs": [],
   "source": [
    "# Maximum Likelihood Estimation"
   ]
  },
  {
   "cell_type": "code",
   "execution_count": 65,
   "id": "6e72a222-1d84-4e89-9f4a-d8af0cb33ac8",
   "metadata": {},
   "outputs": [],
   "source": [
    "def p_unigramo(palabra, corpus):\n",
    "    total_palabras = len(corpus)\n",
    "    apariciones_palabra = corpus.count(palabra)\n",
    "    return apariciones_palabra / total_palabras"
   ]
  },
  {
   "cell_type": "code",
   "execution_count": 66,
   "id": "2d8e8c4c-306e-4c1f-af95-16380fb5cdac",
   "metadata": {},
   "outputs": [],
   "source": [
    "# MLE de \"whale\" en Moby Dick"
   ]
  },
  {
   "cell_type": "code",
   "execution_count": 67,
   "id": "bf9ce925-e17d-4334-ac13-3abcab01e445",
   "metadata": {},
   "outputs": [],
   "source": [
    "mle_whale_md = p_unigramo(\"whale\", moby_dick_tokens_nopunct)"
   ]
  },
  {
   "cell_type": "code",
   "execution_count": 68,
   "id": "878a6f74-76f4-4dd3-98bf-79c742712e71",
   "metadata": {},
   "outputs": [
    {
     "data": {
      "text/plain": [
       "0.005607878474620462"
      ]
     },
     "execution_count": 68,
     "metadata": {},
     "output_type": "execute_result"
    }
   ],
   "source": [
    "mle_whale_md"
   ]
  },
  {
   "cell_type": "code",
   "execution_count": 69,
   "id": "f8f19480-0f94-4b03-83f5-c9905177f1b6",
   "metadata": {},
   "outputs": [],
   "source": [
    "# MLE de \"whale\" en Wall Street Journal"
   ]
  },
  {
   "cell_type": "code",
   "execution_count": 70,
   "id": "c22e5c77-7fde-4686-b12c-d1507463a470",
   "metadata": {},
   "outputs": [],
   "source": [
    "mle_whale_wsj = p_unigramo(\"whale\", jsw_tokens_nopunct)"
   ]
  },
  {
   "cell_type": "code",
   "execution_count": 71,
   "id": "8ac01ef1-9a91-43c6-96cd-4c44ad43a66c",
   "metadata": {},
   "outputs": [
    {
     "data": {
      "text/plain": [
       "0.0"
      ]
     },
     "execution_count": 71,
     "metadata": {},
     "output_type": "execute_result"
    }
   ],
   "source": [
    "mle_whale_wsj"
   ]
  },
  {
   "cell_type": "code",
   "execution_count": 72,
   "id": "6f30b68a-636a-4f1d-8fb7-779e4e9dd8ce",
   "metadata": {},
   "outputs": [],
   "source": [
    "# Guía realizada según los lineamientos de la materia Procesamiento del Lenguaje Natural - Profesor: Hernan Borré"
   ]
  },
  {
   "cell_type": "code",
   "execution_count": null,
   "id": "164c3dd7-2af2-4e68-af10-a8e998d7b5d1",
   "metadata": {},
   "outputs": [],
   "source": []
  }
 ],
 "metadata": {
  "kernelspec": {
   "display_name": "Python 3 (ipykernel)",
   "language": "python",
   "name": "python3"
  },
  "language_info": {
   "codemirror_mode": {
    "name": "ipython",
    "version": 3
   },
   "file_extension": ".py",
   "mimetype": "text/x-python",
   "name": "python",
   "nbconvert_exporter": "python",
   "pygments_lexer": "ipython3",
   "version": "3.8.17"
  }
 },
 "nbformat": 4,
 "nbformat_minor": 5
}
